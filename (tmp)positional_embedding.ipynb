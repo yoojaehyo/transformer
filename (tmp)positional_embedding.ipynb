{
 "cells": [
  {
   "cell_type": "code",
   "execution_count": 3,
   "metadata": {},
   "outputs": [],
   "source": [
    "import tensorflow as tf\n",
    "import math\n",
    "import numpy as np"
   ]
  },
  {
   "cell_type": "code",
   "execution_count": 136,
   "metadata": {},
   "outputs": [],
   "source": [
    "def PositionalEmb(max_seq, d_model) :\n",
    "    half_d = (int(d_model + 1) / 2)\n",
    "\n",
    "    # [0, 2, 4, 6 ...] => 2i array\n",
    "    arr = np.multiply(2.0, np.arange(0, half_d, dtype=float))\n",
    "    \n",
    "    # 1 / 10000 ^ (2i / d_model)\n",
    "    even = np.power(10000.0, -np.divide(arr, d_model))\n",
    "    emb = np.repeat(even, 2)[0:d_model]\n",
    "    \n",
    "    # value in odd dimension would be converted to cosine\n",
    "    phase = [0.0, np.pi/2] * half_d\n",
    "    phase = phase[0:d_model]\n",
    "\n",
    "    positional_embedding = []\n",
    "    for pos in range(max_seq) :\n",
    "        # pos / 10000 ^ (2i / d_model) \n",
    "        emb_pos = np.multiply(emb, pos)\n",
    "        \n",
    "        # odd dim => (pos/...) => (pos/...) + pi / 2\n",
    "        emb_pos = np.add(emb_pos, phase)\n",
    "        \n",
    "        positional_embedding.append(np.sin(emb_pos))\n",
    "    \n",
    "    return positional_embedding"
   ]
  },
  {
   "cell_type": "code",
   "execution_count": 137,
   "metadata": {},
   "outputs": [],
   "source": [
    "P = PositionalEmb(783, 4095)\n",
    "\n",
    "a = tf.constant(np.array(P), dtype=tf.float32)\n",
    "# example of 3-batch size\n",
    "b = tf.zeros([3,783,4095])\n",
    "b = b + a"
   ]
  },
  {
   "cell_type": "code",
   "execution_count": null,
   "metadata": {},
   "outputs": [],
   "source": []
  }
 ],
 "metadata": {
  "kernelspec": {
   "display_name": "py27-tf1.12.0",
   "language": "python",
   "name": "py27-tf1.12.0"
  },
  "language_info": {
   "codemirror_mode": {
    "name": "ipython",
    "version": 2
   },
   "file_extension": ".py",
   "mimetype": "text/x-python",
   "name": "python",
   "nbconvert_exporter": "python",
   "pygments_lexer": "ipython2",
   "version": "2.7.17"
  }
 },
 "nbformat": 4,
 "nbformat_minor": 2
}
